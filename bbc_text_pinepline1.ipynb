{
  "cells": [
    {
      "cell_type": "markdown",
      "metadata": {
        "nteract": {
          "transient": {
            "deleting": false
          }
        }
      },
      "source": [
        "# Prerequisites"
      ]
    },
    {
      "cell_type": "code",
      "execution_count": 1,
      "metadata": {
        "gather": {
          "logged": 1652681827301
        },
        "jupyter": {
          "outputs_hidden": false,
          "source_hidden": false
        },
        "nteract": {
          "transient": {
            "deleting": false
          }
        }
      },
      "outputs": [
        {
          "name": "stdout",
          "output_type": "stream",
          "text": [
            "SDK version: 1.40.0\n"
          ]
        }
      ],
      "source": [
        "# Check core SDK version number\n",
        "import azureml.core\n",
        "\n",
        "print(\"SDK version:\", azureml.core.VERSION)"
      ]
    },
    {
      "cell_type": "markdown",
      "metadata": {
        "nteract": {
          "transient": {
            "deleting": false
          }
        }
      },
      "source": [
        "# Initialize Workspace"
      ]
    },
    {
      "cell_type": "code",
      "execution_count": 2,
      "metadata": {
        "gather": {
          "logged": 1652681827654
        },
        "jupyter": {
          "outputs_hidden": false,
          "source_hidden": false
        },
        "nteract": {
          "transient": {
            "deleting": false
          }
        }
      },
      "outputs": [
        {
          "name": "stdout",
          "output_type": "stream",
          "text": [
            "test\n",
            "test2\n",
            "australiaeast\n",
            "6470fd9a-c001-4c06-9c58-79e82b8d01aa\n"
          ]
        }
      ],
      "source": [
        "from azureml.core import Workspace\n",
        "\n",
        "ws = Workspace.from_config()\n",
        "print(ws.name, ws.resource_group, ws.location, ws.subscription_id, sep='\\n')"
      ]
    },
    {
      "cell_type": "markdown",
      "metadata": {
        "nteract": {
          "transient": {
            "deleting": false
          }
        }
      },
      "source": [
        "# Dataset"
      ]
    },
    {
      "cell_type": "code",
      "execution_count": 3,
      "metadata": {
        "gather": {
          "logged": 1652681831557
        },
        "jupyter": {
          "outputs_hidden": false,
          "source_hidden": false
        },
        "nteract": {
          "transient": {
            "deleting": false
          }
        }
      },
      "outputs": [],
      "source": [
        "from azureml.core import Dataset\n",
        "from azureml.data.datapath import DataPath\n",
        "\n",
        "datastore = ws.get_default_datastore()\n",
        "# Dataset.File.upload_directory(src_dir='BBCNewsSummary_test', \n",
        "#                               target=DataPath(datastore, \"datasets/BBCNewsSummary_test\"),\n",
        "#                               overwrite=True, show_progress=True\n",
        "#                              ) \n",
        "dataset = Dataset.File.from_files(path=(datastore, 'datasets/BBCNewsSummary/'))"
      ]
    },
    {
      "cell_type": "markdown",
      "metadata": {
        "nteract": {
          "transient": {
            "deleting": false
          }
        }
      },
      "source": [
        "# Environment"
      ]
    },
    {
      "cell_type": "code",
      "execution_count": 4,
      "metadata": {
        "jupyter": {
          "outputs_hidden": false,
          "source_hidden": false
        },
        "nteract": {
          "transient": {
            "deleting": false
          }
        }
      },
      "outputs": [
        {
          "name": "stdout",
          "output_type": "stream",
          "text": [
            "Overwriting conda_dependencies_summary.yml\n"
          ]
        }
      ],
      "source": [
        "%%writefile conda_dependencies_summary.yml\n",
        "\n",
        "channels:\n",
        "- conda-forge\n",
        "dependencies:\n",
        "- python=3.6.2\n",
        "- pip=21.3.1\n",
        "- pip:\n",
        "  - azureml-defaults\n",
        "  - torch==1.6.0\n",
        "  - pandas\n",
        "  - transformers==4.18.0\n",
        "  - numpy\n",
        "  - sklearn\n",
        "  - datasets\n",
        "  - nltk\n",
        "  - rouge-score"
      ]
    },
    {
      "cell_type": "code",
      "execution_count": 5,
      "metadata": {
        "gather": {
          "logged": 1652681831920
        },
        "jupyter": {
          "outputs_hidden": false,
          "source_hidden": false
        },
        "nteract": {
          "transient": {
            "deleting": false
          }
        }
      },
      "outputs": [
        {
          "name": "stderr",
          "output_type": "stream",
          "text": [
            "'enabled' is deprecated. Please use the azureml.core.runconfig.DockerConfiguration object with the 'use_docker' param instead.\n"
          ]
        }
      ],
      "source": [
        "from azureml.core import Environment\n",
        "\n",
        "pytorch_env = Environment.from_conda_specification(name = 'pytorch-1.6-gpu', file_path = './conda_dependencies_summary.yml')\n",
        "\n",
        "# Specify a GPU base image\n",
        "pytorch_env.docker.enabled = True\n",
        "pytorch_env.docker.base_image = 'mcr.microsoft.com/azureml/openmpi3.1.2-cuda10.1-cudnn7-ubuntu18.04'"
      ]
    },
    {
      "cell_type": "code",
      "execution_count": 6,
      "metadata": {
        "gather": {
          "logged": 1652681832116
        },
        "jupyter": {
          "outputs_hidden": false,
          "source_hidden": false
        },
        "nteract": {
          "transient": {
            "deleting": false
          }
        }
      },
      "outputs": [],
      "source": [
        "from azureml.core import  Experiment\n",
        "experiment = Experiment(workspace=ws, name='test-datastore')"
      ]
    },
    {
      "cell_type": "markdown",
      "metadata": {
        "nteract": {
          "transient": {
            "deleting": false
          }
        }
      },
      "source": [
        "Text summarization"
      ]
    },
    {
      "cell_type": "code",
      "execution_count": 7,
      "metadata": {
        "gather": {
          "logged": 1652681764598
        },
        "jupyter": {
          "outputs_hidden": false,
          "source_hidden": false
        },
        "nteract": {
          "transient": {
            "deleting": false
          }
        }
      },
      "outputs": [],
      "source": [
        "from azureml.core import ScriptRunConfig\n",
        "sum_run = ScriptRunConfig(\n",
        "        source_directory='./',\n",
        "        script='text_sum3.py',\n",
        "        compute_target='GPU56gtrainmodel',\n",
        "        arguments=[\n",
        "            '--data_path', dataset.as_named_input('input').as_mount(),\n",
        "            # '--output_dir', output,\n",
        "            # '--output_dir','./outputs'\n",
        "            ],\n",
        "        environment=pytorch_env\n",
        "    ) \n",
        "\n",
        "sum_run = experiment.submit(sum_run)\n",
        "sum_run.wait_for_completion(show_output=False)\n",
        "summary_model = sum_run.register_model(model_name = 'summary_fine_tune', model_path = 'outputs/')\n",
        "print(summary_model.name, summary_model.id, summary_model.version, sep = '\\t')\n"
      ]
    },
    {
      "cell_type": "markdown",
      "metadata": {
        "nteract": {
          "transient": {
            "deleting": false
          }
        }
      },
      "source": [
        "Text classification"
      ]
    },
    {
      "cell_type": "code",
      "execution_count": null,
      "metadata": {
        "gather": {
          "logged": 1652681765020
        },
        "jupyter": {
          "outputs_hidden": false,
          "source_hidden": false
        },
        "nteract": {
          "transient": {
            "deleting": false
          }
        }
      },
      "outputs": [],
      "source": [
        "from azureml.core import ScriptRunConfig\n",
        "\n",
        "Class_run = ScriptRunConfig(\n",
        "        source_directory='./',\n",
        "        script='text_class_v3.py',\n",
        "        compute_target='GPU56gtrainmodel',\n",
        "        arguments=[\n",
        "            '--data_path', dataset.as_named_input('input').as_mount()            \n",
        "            ],\n",
        "        environment=pytorch_env\n",
        "    ) \n",
        "\n",
        "Class_run = experiment.submit(Class_run)\n",
        "Class_run.wait_for_completion(show_output=False)\n",
        "Class_model = Class_run.register_model(model_name = 'Class_fine_tune', model_path = 'outputs/')\n",
        "print(Class_model.name, Class_model.id, Class_model.version, sep = '\\t')"
      ]
    },
    {
      "cell_type": "markdown",
      "metadata": {
        "nteract": {
          "transient": {
            "deleting": false
          }
        }
      },
      "source": [
        "# Deploy"
      ]
    },
    {
      "cell_type": "code",
      "execution_count": null,
      "metadata": {
        "gather": {
          "logged": 1652681765041
        },
        "jupyter": {
          "outputs_hidden": false,
          "source_hidden": false
        },
        "nteract": {
          "transient": {
            "deleting": false
          }
        }
      },
      "outputs": [],
      "source": [
        "import sklearn\n",
        "\n",
        "from azureml.core.environment import Environment\n",
        "\n",
        "environment = Environment(\"LocalDeploy\")\n",
        "environment.python.conda_dependencies.add_pip_package(\"torch==1.6.0\")\n",
        "environment.python.conda_dependencies.add_pip_package(\"transformers==4.18.0\")\n",
        "environment.python.conda_dependencies.add_pip_package(\"pandas\")\n",
        "environment.python.conda_dependencies.add_pip_package(\"nltk\")\n",
        "environment.python.conda_dependencies.add_pip_package(\"scikit-learn=={}\".format(sklearn.__version__))"
      ]
    },
    {
      "cell_type": "markdown",
      "metadata": {
        "nteract": {
          "transient": {
            "deleting": false
          }
        }
      },
      "source": [
        "Deploy LocalWebservice"
      ]
    },
    {
      "cell_type": "code",
      "execution_count": null,
      "metadata": {
        "gather": {
          "logged": 1652681765063
        },
        "jupyter": {
          "outputs_hidden": false,
          "source_hidden": false
        },
        "nteract": {
          "transient": {
            "deleting": false
          }
        }
      },
      "outputs": [],
      "source": [
        "from azureml.core.webservice import LocalWebservice\n",
        "from azureml.core.model import InferenceConfig\n",
        "from azureml.core.model import Model\n",
        "Class_model= Model(ws, 'Class_fine_tune')\n",
        "\n",
        "inference_config = InferenceConfig(entry_script=\"score4.py\",\n",
        "                                     environment=environment)                                \n",
        "                                  \n",
        "# This is optional, if not provided Docker will choose a random unused port.\n",
        "deployment_config = LocalWebservice.deploy_configuration(port=6789)\n",
        "\n",
        "local_service = Model.deploy(ws, \"test\", [Class_model,summary_model], inference_config, deployment_config)\n",
        "\n",
        "local_service.wait_for_deployment()"
      ]
    },
    {
      "cell_type": "code",
      "execution_count": null,
      "metadata": {
        "gather": {
          "logged": 1652681765082
        },
        "jupyter": {
          "outputs_hidden": false,
          "source_hidden": false
        },
        "nteract": {
          "transient": {
            "deleting": false
          }
        }
      },
      "outputs": [],
      "source": [
        "import json\n",
        "result = local_service.run(input_data=json.dumps({'data': 'Spam e-mails tempt net shoppers','length_summary':100,'amount_recom':3}))\n",
        "# result = local_service.run(input_data=json.dumps({'data': 'Spam e-mails tempt net shoppers'}))\n",
        "\n",
        "print(result)"
      ]
    },
    {
      "cell_type": "code",
      "execution_count": null,
      "metadata": {
        "gather": {
          "logged": 1652681765098
        },
        "jupyter": {
          "outputs_hidden": false,
          "source_hidden": false
        },
        "nteract": {
          "transient": {
            "deleting": false
          }
        }
      },
      "outputs": [],
      "source": [
        "sample_input = json.dumps({'length_summary':100,'amount_recom':3,\n",
        "    'data': '''Spam e-mails tempt net shoppers\n",
        "\n",
        "Computer users across the world continue to ignore security warnings about spam e-mails and are being lured into buying goods, a report suggests.\n",
        "\n",
        "More than a quarter have bought software through spam e-mails and 24% have bought clothes or jewellery. As well as profiting from selling goods or services and driving advertising traffic, organised crime rings can use spam to glean personal information. The Business Software Alliance (BSA) warned that people should \"stay alert\". \"Many online consumers don't consider the true motives of spammers,\" said Mike Newton, a spokesperson for the BSA which commissioned the survey.\n",
        "\n",
        "\"By selling software that appears to be legitimate in genuine looking packaging or through sophisticated websites, spammers are hiding spyware without consumers' knowledge. \"Once the software is installed on PCs and networks, information that is given over the internet can be obtained and abused.\"\n",
        "\n",
        "The results also showed that the proportion of people reading - or admitting to reading - and taking advantage of adult entertainment spam e-mails is low, at one in 10. The research, which covered 6,000 people in six countries and their attitudes towards junk e-mails, revealed that Brazilians were the most likely to read spam. A third of them read unsolicited junk e-mail and 66% buy goods or services after receiving spam.\n",
        "\n",
        "The French were the second most likely to buy something (48%), with 44% of Britons taking advantage of products and services. This was despite 38% of people in all countries being worried about their net security because of the amount of spam they get. More than a third of respondents said they were concerned that spam e-mails contained viruses or programs that attempted to collect personal information. \"Both industry and the media have helped to raise awareness of the issues that surround illegitimate e-mail, helping to reduce the potential financial damage and nuisance from phishing attacks and spoof websites,\" said William Plante, director of corporate security and fraud protection at security firm Symantec. \"At the same time, consumers need to continue exercising caution and protect themselves from harm with a mixture of spam filters, spyware detection software and sound judgement.\"'''\n",
        "})\n",
        "\n",
        "local_service.run(sample_input)"
      ]
    },
    {
      "cell_type": "code",
      "execution_count": null,
      "metadata": {
        "gather": {
          "logged": 1652681765140
        },
        "jupyter": {
          "outputs_hidden": false,
          "source_hidden": false
        },
        "nteract": {
          "transient": {
            "deleting": false
          }
        }
      },
      "outputs": [],
      "source": [
        "local_service.delete()"
      ]
    },
    {
      "cell_type": "code",
      "execution_count": null,
      "metadata": {
        "gather": {
          "logged": 1652681765157
        },
        "jupyter": {
          "outputs_hidden": false,
          "source_hidden": false
        },
        "nteract": {
          "transient": {
            "deleting": false
          }
        }
      },
      "outputs": [],
      "source": [
        "# local_service.update(models=[model1],\n",
        "#                      inference_config=inference_config,\n",
        "#                      deployment_config=deployment_config)\n"
      ]
    },
    {
      "cell_type": "markdown",
      "metadata": {},
      "source": [
        "Deploy AciWebservice"
      ]
    },
    {
      "cell_type": "code",
      "execution_count": null,
      "metadata": {
        "gather": {
          "logged": 1652681765170
        },
        "jupyter": {
          "outputs_hidden": false,
          "source_hidden": false
        },
        "nteract": {
          "transient": {
            "deleting": false
          }
        }
      },
      "outputs": [],
      "source": [
        "from azureml.core.webservice import AciWebservice\n",
        "from azureml.core.model import InferenceConfig\n",
        "from azureml.core.model import Model\n",
        "\n",
        "# inference_config = InferenceConfig(entry_script=\"pytorch_score.py\", environment=pytorch_env)\n",
        "\n",
        "aciconfig = AciWebservice.deploy_configuration(cpu_cores=2, \n",
        "                                               memory_gb=2)\n",
        "                                            #    tags={'data': 'birds',  'method':'transfer learning', 'framework':'pytorch'},\n",
        "                                            #    description='Classify turkey/chickens using transfer learning with PyTorch')\n",
        "\n",
        "service = Model.deploy(workspace=ws, \n",
        "                           name='aci-birds1', \n",
        "                           models=[Class_model,summary_model], \n",
        "                           inference_config=inference_config, \n",
        "                           deployment_config=aciconfig)\n",
        "service.wait_for_deployment(True)\n",
        "print(service.state)"
      ]
    },
    {
      "cell_type": "code",
      "execution_count": null,
      "metadata": {
        "gather": {
          "logged": 1652681765189
        },
        "jupyter": {
          "outputs_hidden": false,
          "source_hidden": false
        },
        "nteract": {
          "transient": {
            "deleting": false
          }
        }
      },
      "outputs": [],
      "source": [
        "text_test='''Ad sales boost Time Warner profit\n",
        "\n",
        "Quarterly profits at US media giant TimeWarner jumped 76% to $1.13bn (£600m) for the three months to December, from $639m year-earlier.\n",
        "\n",
        "The firm, which is now one of the biggest investors in Google, benefited from sales of high-speed internet connections and higher advert sales. TimeWarner said fourth quarter sales rose 2% to $11.1bn from $10.9bn. Its profits were buoyed by one-off gains which offset a profit dip at Warner Bros, and less users for AOL.'''\n",
        "\n",
        "# Time Warner said on Friday that it now owns 8% of search-engine Google. But its own internet business, AOL, had has mixed fortunes. It lost 464,000 subscribers in the fourth quarter profits were lower than in the preceding three quarters. However, the company said AOL's underlying profit before exceptional items rose 8% on the back of stronger internet advertising revenues. It hopes to increase subscribers by offering the online service free to TimeWarner internet customers and will try to sign up AOL's existing customers for high-speed broadband. TimeWarner also has to restate 2000 and 2003 results following a probe by the US Securities Exchange Commission (SEC), which is close to concluding.\n",
        "\n",
        "# Time Warner's fourth quarter profits were slightly better than analysts' expectations. But its film division saw profits slump 27% to $284m, helped by box-office flops Alexander and Catwoman, a sharp contrast to year-earlier, when the third and final film in the Lord of the Rings trilogy boosted results. For the full-year, TimeWarner posted a profit of $3.36bn, up 27% from its 2003 performance, while revenues grew 6.4% to $42.09bn. \"Our financial performance was strong, meeting or exceeding all of our full-year objectives and greatly enhancing our flexibility,\" chairman and chief executive Richard Parsons said. For 2005, TimeWarner is projecting operating earnings growth of around 5%, and also expects higher revenue and wider profit margins.\n",
        "\n",
        "# TimeWarner is to restate its accounts as part of efforts to resolve an inquiry into AOL by US market regulators. It has already offered to pay $300m to settle charges, in a deal that is under review by the SEC. The company said it was unable to estimate the amount it needed to set aside for legal reserves, which it previously set at $500m. It intends to adjust the way it accounts for a deal with German music publisher Bertelsmann's purchase of a stake in AOL Europe, which it had reported as advertising revenue. It will now book the sale of its stake in AOL Europe as a loss on the value of that stake.'''\n"
      ]
    },
    {
      "cell_type": "code",
      "execution_count": null,
      "metadata": {
        "gather": {
          "logged": 1652681765208
        },
        "jupyter": {
          "outputs_hidden": false,
          "source_hidden": false
        },
        "nteract": {
          "transient": {
            "deleting": false
          }
        }
      },
      "outputs": [],
      "source": [
        "import json\n",
        "sample_input = json.dumps({'data': text_test,'length_summary':100,'amount_recom':3})\n",
        "service.run(sample_input)\n",
        "# service.run(sample_input)"
      ]
    },
    {
      "cell_type": "code",
      "execution_count": null,
      "metadata": {
        "gather": {
          "logged": 1652681765230
        },
        "jupyter": {
          "outputs_hidden": false,
          "source_hidden": false
        },
        "nteract": {
          "transient": {
            "deleting": false
          }
        }
      },
      "outputs": [],
      "source": [
        "service.delete()"
      ]
    }
  ],
  "metadata": {
    "kernel_info": {
      "name": "python38-azureml"
    },
    "kernelspec": {
      "display_name": "Python 3.8 - AzureML",
      "language": "python",
      "name": "python38-azureml"
    },
    "language_info": {
      "codemirror_mode": {
        "name": "ipython",
        "version": 3
      },
      "file_extension": ".py",
      "mimetype": "text/x-python",
      "name": "python",
      "nbconvert_exporter": "python",
      "pygments_lexer": "ipython3",
      "version": "3.8.5"
    },
    "microsoft": {
      "host": {
        "AzureML": {
          "notebookHasBeenCompleted": true
        }
      }
    },
    "nteract": {
      "version": "nteract-front-end@1.0.0"
    }
  },
  "nbformat": 4,
  "nbformat_minor": 2
}
